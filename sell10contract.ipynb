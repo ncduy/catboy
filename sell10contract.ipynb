{
  "nbformat": 4,
  "nbformat_minor": 0,
  "metadata": {
    "colab": {
      "provenance": [],
      "authorship_tag": "ABX9TyO/JMhsTEfatlzrx7RC4mku",
      "include_colab_link": true
    },
    "kernelspec": {
      "name": "python3",
      "display_name": "Python 3"
    },
    "language_info": {
      "name": "python"
    }
  },
  "cells": [
    {
      "cell_type": "markdown",
      "metadata": {
        "id": "view-in-github",
        "colab_type": "text"
      },
      "source": [
        "<a href=\"https://colab.research.google.com/github/ncduy/catboy/blob/main/sell10contract.ipynb\" target=\"_parent\"><img src=\"https://colab.research.google.com/assets/colab-badge.svg\" alt=\"Open In Colab\"/></a>"
      ]
    },
    {
      "cell_type": "code",
      "execution_count": 1,
      "metadata": {
        "id": "ab2c--Ki2V25"
      },
      "outputs": [],
      "source": [
        "# Please change the following to your own PAPER api key and secret\n",
        "# or set them as environment variables (ALPACA_API_KEY, ALPACA_SECRET_KEY).\n",
        "# You can get them from https://alpaca.markets/\n",
        "\n",
        "api_key = \"PKAJRW6L76J4ZWL5G61L\"\n",
        "secret_key = \"9Ac6q53gbgEEEXvxr7Sv2nl5h70Nft577z70TM24\"\n",
        "\n",
        "#### We use paper environment for this example ####\n",
        "paper = True  # Please do not modify this. This example is for paper trading only.\n",
        "####\n",
        "\n",
        "# Below are the variables for development this documents\n",
        "# Please do not change these variables\n",
        "\n",
        "trade_api_url = None"
      ]
    },
    {
      "cell_type": "code",
      "source": [
        "import os\n",
        "\n",
        "if api_key is None:\n",
        "    api_key = os.environ.get('ALPACA_API_KEY')\n",
        "\n",
        "if secret_key is None:\n",
        "    secret_key = os.environ.get('ALPACA_SECRET_KEY')"
      ],
      "metadata": {
        "id": "MO3-3iDH3YF7"
      },
      "execution_count": 2,
      "outputs": []
    },
    {
      "cell_type": "code",
      "source": [
        "# install alpaca-py if it is not available\n",
        "try:\n",
        "    import alpaca\n",
        "except ImportError:\n",
        "    !python3 -m pip install alpaca-py\n",
        "    import alpaca"
      ],
      "metadata": {
        "collapsed": true,
        "id": "SRwwVS0F3htT",
        "outputId": "e1d4c4e4-bd46-4a9a-cdc3-d053cd20701c",
        "colab": {
          "base_uri": "https://localhost:8080/"
        }
      },
      "execution_count": 3,
      "outputs": [
        {
          "output_type": "stream",
          "name": "stdout",
          "text": [
            "Collecting alpaca-py\n",
            "  Downloading alpaca_py-0.38.0-py3-none-any.whl.metadata (13 kB)\n",
            "Requirement already satisfied: msgpack<2.0.0,>=1.0.3 in /usr/local/lib/python3.11/dist-packages (from alpaca-py) (1.1.0)\n",
            "Requirement already satisfied: pandas>=1.5.3 in /usr/local/lib/python3.11/dist-packages (from alpaca-py) (2.2.2)\n",
            "Requirement already satisfied: pydantic<3.0.0,>=2.0.3 in /usr/local/lib/python3.11/dist-packages (from alpaca-py) (2.10.6)\n",
            "Requirement already satisfied: requests<3.0.0,>=2.30.0 in /usr/local/lib/python3.11/dist-packages (from alpaca-py) (2.32.3)\n",
            "Collecting sseclient-py<2.0.0,>=1.7.2 (from alpaca-py)\n",
            "  Downloading sseclient_py-1.8.0-py2.py3-none-any.whl.metadata (2.0 kB)\n",
            "Requirement already satisfied: websockets>=10.4 in /usr/local/lib/python3.11/dist-packages (from alpaca-py) (14.2)\n",
            "Requirement already satisfied: numpy>=1.23.2 in /usr/local/lib/python3.11/dist-packages (from pandas>=1.5.3->alpaca-py) (1.26.4)\n",
            "Requirement already satisfied: python-dateutil>=2.8.2 in /usr/local/lib/python3.11/dist-packages (from pandas>=1.5.3->alpaca-py) (2.8.2)\n",
            "Requirement already satisfied: pytz>=2020.1 in /usr/local/lib/python3.11/dist-packages (from pandas>=1.5.3->alpaca-py) (2025.1)\n",
            "Requirement already satisfied: tzdata>=2022.7 in /usr/local/lib/python3.11/dist-packages (from pandas>=1.5.3->alpaca-py) (2025.1)\n",
            "Requirement already satisfied: annotated-types>=0.6.0 in /usr/local/lib/python3.11/dist-packages (from pydantic<3.0.0,>=2.0.3->alpaca-py) (0.7.0)\n",
            "Requirement already satisfied: pydantic-core==2.27.2 in /usr/local/lib/python3.11/dist-packages (from pydantic<3.0.0,>=2.0.3->alpaca-py) (2.27.2)\n",
            "Requirement already satisfied: typing-extensions>=4.12.2 in /usr/local/lib/python3.11/dist-packages (from pydantic<3.0.0,>=2.0.3->alpaca-py) (4.12.2)\n",
            "Requirement already satisfied: charset-normalizer<4,>=2 in /usr/local/lib/python3.11/dist-packages (from requests<3.0.0,>=2.30.0->alpaca-py) (3.4.1)\n",
            "Requirement already satisfied: idna<4,>=2.5 in /usr/local/lib/python3.11/dist-packages (from requests<3.0.0,>=2.30.0->alpaca-py) (3.10)\n",
            "Requirement already satisfied: urllib3<3,>=1.21.1 in /usr/local/lib/python3.11/dist-packages (from requests<3.0.0,>=2.30.0->alpaca-py) (2.3.0)\n",
            "Requirement already satisfied: certifi>=2017.4.17 in /usr/local/lib/python3.11/dist-packages (from requests<3.0.0,>=2.30.0->alpaca-py) (2025.1.31)\n",
            "Requirement already satisfied: six>=1.5 in /usr/local/lib/python3.11/dist-packages (from python-dateutil>=2.8.2->pandas>=1.5.3->alpaca-py) (1.17.0)\n",
            "Downloading alpaca_py-0.38.0-py3-none-any.whl (121 kB)\n",
            "\u001b[2K   \u001b[90m━━━━━━━━━━━━━━━━━━━━━━━━━━━━━━━━━━━━━━━━\u001b[0m \u001b[32m121.5/121.5 kB\u001b[0m \u001b[31m2.5 MB/s\u001b[0m eta \u001b[36m0:00:00\u001b[0m\n",
            "\u001b[?25hDownloading sseclient_py-1.8.0-py2.py3-none-any.whl (8.8 kB)\n",
            "Installing collected packages: sseclient-py, alpaca-py\n",
            "Successfully installed alpaca-py-0.38.0 sseclient-py-1.8.0\n"
          ]
        }
      ]
    },
    {
      "cell_type": "code",
      "source": [
        "from datetime import datetime, timedelta\n",
        "from zoneinfo import ZoneInfo\n",
        "import calendar\n",
        "\n",
        "from alpaca.trading.client import TradingClient\n",
        "from alpaca.data.requests import (\n",
        "    OptionBarsRequest,\n",
        "    OptionTradesRequest,\n",
        "    OptionLatestQuoteRequest,\n",
        "    OptionLatestTradeRequest,\n",
        "    OptionSnapshotRequest,\n",
        "    OptionChainRequest\n",
        ")\n",
        "from alpaca.trading.requests import (\n",
        "    GetOptionContractsRequest,\n",
        "    MarketOrderRequest,\n",
        "    OptionLegRequest,\n",
        "    ReplaceOrderRequest,\n",
        "    LimitOrderRequest,\n",
        ")\n",
        "from alpaca.trading.enums import (\n",
        "    AssetStatus,\n",
        "    ExerciseStyle,\n",
        "    OrderSide,\n",
        "    OrderStatus,\n",
        "    TimeInForce,\n",
        "    OrderClass,\n",
        "    ContractType\n",
        ")\n",
        "from alpaca.common.exceptions import APIError"
      ],
      "metadata": {
        "id": "XkeDgS_33tMz"
      },
      "execution_count": 52,
      "outputs": []
    },
    {
      "cell_type": "code",
      "source": [
        "# setup client\n",
        "trade_client = TradingClient(api_key=api_key, secret_key=secret_key, paper=paper, url_override=trade_api_url)"
      ],
      "metadata": {
        "id": "5cMay3Sf3yvR"
      },
      "execution_count": 6,
      "outputs": []
    },
    {
      "cell_type": "code",
      "source": [
        "# First, let us see if the account is enabled for multi-leg options trading\n",
        "acct = trade_client.get_account()\n",
        "if acct.options_trading_level >= 3:\n",
        "    print(\"Account is enabled for multi-leg options trading!\")\n",
        "else:\n",
        "    print(\"Account is not enabled for multi-leg options trading!\")"
      ],
      "metadata": {
        "id": "o7NM8_7E3z0c",
        "outputId": "6b5c50a7-e084-4dfc-8538-05c27f79358e",
        "colab": {
          "base_uri": "https://localhost:8080/"
        }
      },
      "execution_count": 7,
      "outputs": [
        {
          "output_type": "stream",
          "name": "stdout",
          "text": [
            "Account is enabled for multi-leg options trading!\n"
          ]
        }
      ]
    },
    {
      "cell_type": "code",
      "source": [
        "from alpaca.data.historical import StockHistoricalDataClient\n",
        "from alpaca.data.requests import StockLatestTradeRequest\n",
        "# Initialize Stock Data Client\n",
        "stock_client = StockHistoricalDataClient(api_key, secret_key)\n",
        "\n",
        "# Create a request to get the latest trade price for TSLA\n",
        "trade_request = StockLatestTradeRequest(symbol_or_symbols=[\"TSLA\"])\n",
        "latest_trade = stock_client.get_stock_latest_trade(trade_request)\n",
        "\n",
        "# Extract TSLA's latest price\n",
        "tsla_price = latest_trade[\"TSLA\"].price\n",
        "print(f\"Current TSLA Price: ${tsla_price}\")"
      ],
      "metadata": {
        "id": "MC5OxHYw4N02",
        "outputId": "d07aba53-edd6-48e6-9ec7-af09cc4ecb31",
        "colab": {
          "base_uri": "https://localhost:8080/"
        }
      },
      "execution_count": 56,
      "outputs": [
        {
          "output_type": "stream",
          "name": "stdout",
          "text": [
            "Current TSLA Price: $354.1\n"
          ]
        }
      ]
    },
    {
      "cell_type": "code",
      "source": [
        "from alpaca.data.historical.option import OptionHistoricalDataClient\n",
        "\n",
        "# Request all available TSLA option contracts\n",
        "req = GetOptionContractsRequest(\n",
        "    underlying_symbols=[\"TSLA\"],  # Filter for TSLA options\n",
        "    status=AssetStatus.ACTIVE,    # Only fetch active contracts\n",
        "    limit=100                     # Increase limit if needed\n",
        ")\n",
        "\n",
        "# Fetch contracts\n",
        "res = trade_client.get_option_contracts(req)\n",
        "#res.option_contracts[:2]\n",
        "# ✅ Extract the option symbols correctly\n",
        "option_symbols = [contract.symbol for contract in res.option_contracts]\n",
        "#setup option historical data client\n",
        "option_historical_data_client = OptionHistoricalDataClient(api_key, secret_key, trade_api_url)\n",
        "# specify expiration date range\n",
        "now = datetime.now(tz = ZoneInfo(\"America/New_York\"))\n",
        "# get options historical trades by symbol\n",
        "req = OptionTradesRequest(\n",
        "    symbol_or_symbols=option_symbols,\n",
        "    start = now,                              # specify start datetime, default=the beginning of the current day.\n",
        "    end=  now + timedelta(days = 5),                                                # specify end datetime, default=now\n",
        "    limit = 100,                                                      # specify limit\n",
        ")\n",
        "res = option_historical_data_client.get_option_trades(req)\n",
        "res"
      ],
      "metadata": {
        "id": "fpMsV-qWNcR4",
        "outputId": "ee4a134e-5fee-4bb3-f4c3-b77d2a5a0c2a",
        "colab": {
          "base_uri": "https://localhost:8080/",
          "height": 446
        }
      },
      "execution_count": 81,
      "outputs": [
        {
          "output_type": "error",
          "ename": "APIError",
          "evalue": "{\"message\":\"OPRA agreement is not signed\"}\n",
          "traceback": [
            "\u001b[0;31m---------------------------------------------------------------------------\u001b[0m",
            "\u001b[0;31mHTTPError\u001b[0m                                 Traceback (most recent call last)",
            "\u001b[0;32m/usr/local/lib/python3.11/dist-packages/alpaca/common/rest.py\u001b[0m in \u001b[0;36m_one_request\u001b[0;34m(self, method, url, opts, retry)\u001b[0m\n\u001b[1;32m    197\u001b[0m         \u001b[0;32mtry\u001b[0m\u001b[0;34m:\u001b[0m\u001b[0;34m\u001b[0m\u001b[0;34m\u001b[0m\u001b[0m\n\u001b[0;32m--> 198\u001b[0;31m             \u001b[0mresponse\u001b[0m\u001b[0;34m.\u001b[0m\u001b[0mraise_for_status\u001b[0m\u001b[0;34m(\u001b[0m\u001b[0;34m)\u001b[0m\u001b[0;34m\u001b[0m\u001b[0;34m\u001b[0m\u001b[0m\n\u001b[0m\u001b[1;32m    199\u001b[0m         \u001b[0;32mexcept\u001b[0m \u001b[0mHTTPError\u001b[0m \u001b[0;32mas\u001b[0m \u001b[0mhttp_error\u001b[0m\u001b[0;34m:\u001b[0m\u001b[0;34m\u001b[0m\u001b[0;34m\u001b[0m\u001b[0m\n",
            "\u001b[0;32m/usr/local/lib/python3.11/dist-packages/requests/models.py\u001b[0m in \u001b[0;36mraise_for_status\u001b[0;34m(self)\u001b[0m\n\u001b[1;32m   1023\u001b[0m         \u001b[0;32mif\u001b[0m \u001b[0mhttp_error_msg\u001b[0m\u001b[0;34m:\u001b[0m\u001b[0;34m\u001b[0m\u001b[0;34m\u001b[0m\u001b[0m\n\u001b[0;32m-> 1024\u001b[0;31m             \u001b[0;32mraise\u001b[0m \u001b[0mHTTPError\u001b[0m\u001b[0;34m(\u001b[0m\u001b[0mhttp_error_msg\u001b[0m\u001b[0;34m,\u001b[0m \u001b[0mresponse\u001b[0m\u001b[0;34m=\u001b[0m\u001b[0mself\u001b[0m\u001b[0;34m)\u001b[0m\u001b[0;34m\u001b[0m\u001b[0;34m\u001b[0m\u001b[0m\n\u001b[0m\u001b[1;32m   1025\u001b[0m \u001b[0;34m\u001b[0m\u001b[0m\n",
            "\u001b[0;31mHTTPError\u001b[0m: 403 Client Error: Forbidden for url: https://data.alpaca.markets/v1beta1/options/trades?start=2025-02-19T09%3A25%3A03.012015%2B00%3A00&end=2025-02-24T09%3A25%3A03.012015%2B00%3A00&limit=100&symbols=TSLA250221C00050000%2CTSLA250221C00055000%2CTSLA250221C00060000%2CTSLA250221C00065000%2CTSLA250221C00070000%2CTSLA250221C00075000%2CTSLA250221C00080000%2CTSLA250221C00085000%2CTSLA250221C00090000%2CTSLA250221C00095000%2CTSLA250221C00100000%2CTSLA250221C00105000%2CTSLA250221C00110000%2CTSLA250221C00115000%2CTSLA250221C00120000%2CTSLA250221C00125000%2CTSLA250221C00130000%2CTSLA250221C00135000%2CTSLA250221C00140000%2CTSLA250221C00145000%2CTSLA250221C00150000%2CTSLA250221C00155000%2CTSLA250221C00160000%2CTSLA250221C00165000%2CTSLA250221C00170000%2CTSLA250221C00175000%2CTSLA250221C00180000%2CTSLA250221C00185000%2CTSLA250221C00190000%2CTSLA250221C00195000%2CTSLA250221C00200000%2CTSLA250221C00205000%2CTSLA250221C00210000%2CTSLA250221C00215000%2CTSLA250221C00220000%2CTSLA250221C00225000%2CTSLA250221C00230000%2CTSLA250221C00235000%2CTSLA250221C00240000%2CTSLA250221C00245000%2CTSLA250221C00250000%2CTSLA250221C00255000%2CTSLA250221C00260000%2CTSLA250221C00265000%2CTSLA250221C00270000%2CTSLA250221C00272500%2CTSLA250221C00275000%2CTSLA250221C00277500%2CTSLA250221C00280000%2CTSLA250221C00282500%2CTSLA250221C00285000%2CTSLA250221C00287500%2CTSLA250221C00290000%2CTSLA250221C00292500%2CTSLA250221C00295000%2CTSLA250221C00297500%2CTSLA250221C00300000%2CTSLA250221C00302500%2CT...",
            "\nDuring handling of the above exception, another exception occurred:\n",
            "\u001b[0;31mAPIError\u001b[0m                                  Traceback (most recent call last)",
            "\u001b[0;32m<ipython-input-81-ddcc8ed64784>\u001b[0m in \u001b[0;36m<cell line: 0>\u001b[0;34m()\u001b[0m\n\u001b[1;32m     24\u001b[0m     \u001b[0mlimit\u001b[0m \u001b[0;34m=\u001b[0m \u001b[0;36m100\u001b[0m\u001b[0;34m,\u001b[0m                                                      \u001b[0;31m# specify limit\u001b[0m\u001b[0;34m\u001b[0m\u001b[0;34m\u001b[0m\u001b[0m\n\u001b[1;32m     25\u001b[0m )\n\u001b[0;32m---> 26\u001b[0;31m \u001b[0mres\u001b[0m \u001b[0;34m=\u001b[0m \u001b[0moption_historical_data_client\u001b[0m\u001b[0;34m.\u001b[0m\u001b[0mget_option_trades\u001b[0m\u001b[0;34m(\u001b[0m\u001b[0mreq\u001b[0m\u001b[0;34m)\u001b[0m\u001b[0;34m\u001b[0m\u001b[0;34m\u001b[0m\u001b[0m\n\u001b[0m\u001b[1;32m     27\u001b[0m \u001b[0mres\u001b[0m\u001b[0;34m\u001b[0m\u001b[0;34m\u001b[0m\u001b[0m\n",
            "\u001b[0;32m/usr/local/lib/python3.11/dist-packages/alpaca/data/historical/option.py\u001b[0m in \u001b[0;36mget_option_trades\u001b[0;34m(self, request_params)\u001b[0m\n\u001b[1;32m    166\u001b[0m             \u001b[0mUnion\u001b[0m\u001b[0;34m[\u001b[0m\u001b[0mTradeSet\u001b[0m\u001b[0;34m,\u001b[0m \u001b[0mRawData\u001b[0m\u001b[0;34m]\u001b[0m\u001b[0;34m:\u001b[0m \u001b[0mThe\u001b[0m \u001b[0mtrade\u001b[0m \u001b[0mdata\u001b[0m \u001b[0meither\u001b[0m \u001b[0;32min\u001b[0m \u001b[0mraw\u001b[0m \u001b[0;32mor\u001b[0m \u001b[0mwrapped\u001b[0m \u001b[0mform\u001b[0m\u001b[0;34m\u001b[0m\u001b[0;34m\u001b[0m\u001b[0m\n\u001b[1;32m    167\u001b[0m         \"\"\"\n\u001b[0;32m--> 168\u001b[0;31m         raw_trades = self._get_marketdata(\n\u001b[0m\u001b[1;32m    169\u001b[0m             \u001b[0mpath\u001b[0m\u001b[0;34m=\u001b[0m\u001b[0;34mf\"/options/trades\"\u001b[0m\u001b[0;34m,\u001b[0m\u001b[0;34m\u001b[0m\u001b[0;34m\u001b[0m\u001b[0m\n\u001b[1;32m    170\u001b[0m             \u001b[0mparams\u001b[0m\u001b[0;34m=\u001b[0m\u001b[0mrequest_params\u001b[0m\u001b[0;34m.\u001b[0m\u001b[0mto_request_fields\u001b[0m\u001b[0;34m(\u001b[0m\u001b[0;34m)\u001b[0m\u001b[0;34m,\u001b[0m\u001b[0;34m\u001b[0m\u001b[0;34m\u001b[0m\u001b[0m\n",
            "\u001b[0;32m/usr/local/lib/python3.11/dist-packages/alpaca/common/rest.py\u001b[0m in \u001b[0;36m_get_marketdata\u001b[0;34m(self, path, params, page_limit, no_sub_key)\u001b[0m\n\u001b[1;32m    391\u001b[0m             \u001b[0mparams\u001b[0m\u001b[0;34m[\u001b[0m\u001b[0;34m\"page_token\"\u001b[0m\u001b[0;34m]\u001b[0m \u001b[0;34m=\u001b[0m \u001b[0mpage_token\u001b[0m\u001b[0;34m\u001b[0m\u001b[0;34m\u001b[0m\u001b[0m\n\u001b[1;32m    392\u001b[0m \u001b[0;34m\u001b[0m\u001b[0m\n\u001b[0;32m--> 393\u001b[0;31m             \u001b[0mresponse\u001b[0m \u001b[0;34m=\u001b[0m \u001b[0mself\u001b[0m\u001b[0;34m.\u001b[0m\u001b[0mget\u001b[0m\u001b[0;34m(\u001b[0m\u001b[0mpath\u001b[0m\u001b[0;34m=\u001b[0m\u001b[0mpath\u001b[0m\u001b[0;34m,\u001b[0m \u001b[0mdata\u001b[0m\u001b[0;34m=\u001b[0m\u001b[0mparams\u001b[0m\u001b[0;34m)\u001b[0m\u001b[0;34m\u001b[0m\u001b[0;34m\u001b[0m\u001b[0m\n\u001b[0m\u001b[1;32m    394\u001b[0m \u001b[0;34m\u001b[0m\u001b[0m\n\u001b[1;32m    395\u001b[0m             \u001b[0;32mfor\u001b[0m \u001b[0mk\u001b[0m\u001b[0;34m,\u001b[0m \u001b[0mv\u001b[0m \u001b[0;32min\u001b[0m \u001b[0m_get_marketdata_entries\u001b[0m\u001b[0;34m(\u001b[0m\u001b[0mresponse\u001b[0m\u001b[0;34m,\u001b[0m \u001b[0mno_sub_key\u001b[0m\u001b[0;34m)\u001b[0m\u001b[0;34m.\u001b[0m\u001b[0mitems\u001b[0m\u001b[0;34m(\u001b[0m\u001b[0;34m)\u001b[0m\u001b[0;34m:\u001b[0m\u001b[0;34m\u001b[0m\u001b[0;34m\u001b[0m\u001b[0m\n",
            "\u001b[0;32m/usr/local/lib/python3.11/dist-packages/alpaca/common/rest.py\u001b[0m in \u001b[0;36mget\u001b[0;34m(self, path, data, **kwargs)\u001b[0m\n\u001b[1;32m    223\u001b[0m             \u001b[0mdict\u001b[0m\u001b[0;34m:\u001b[0m \u001b[0mThe\u001b[0m \u001b[0mresponse\u001b[0m\u001b[0;34m\u001b[0m\u001b[0;34m\u001b[0m\u001b[0m\n\u001b[1;32m    224\u001b[0m         \"\"\"\n\u001b[0;32m--> 225\u001b[0;31m         \u001b[0;32mreturn\u001b[0m \u001b[0mself\u001b[0m\u001b[0;34m.\u001b[0m\u001b[0m_request\u001b[0m\u001b[0;34m(\u001b[0m\u001b[0;34m\"GET\"\u001b[0m\u001b[0;34m,\u001b[0m \u001b[0mpath\u001b[0m\u001b[0;34m,\u001b[0m \u001b[0mdata\u001b[0m\u001b[0;34m,\u001b[0m \u001b[0;34m**\u001b[0m\u001b[0mkwargs\u001b[0m\u001b[0;34m)\u001b[0m\u001b[0;34m\u001b[0m\u001b[0;34m\u001b[0m\u001b[0m\n\u001b[0m\u001b[1;32m    226\u001b[0m \u001b[0;34m\u001b[0m\u001b[0m\n\u001b[1;32m    227\u001b[0m     def post(\n",
            "\u001b[0;32m/usr/local/lib/python3.11/dist-packages/alpaca/common/rest.py\u001b[0m in \u001b[0;36m_request\u001b[0;34m(self, method, path, data, base_url, api_version)\u001b[0m\n\u001b[1;32m    129\u001b[0m         \u001b[0;32mwhile\u001b[0m \u001b[0mretry\u001b[0m \u001b[0;34m>=\u001b[0m \u001b[0;36m0\u001b[0m\u001b[0;34m:\u001b[0m\u001b[0;34m\u001b[0m\u001b[0;34m\u001b[0m\u001b[0m\n\u001b[1;32m    130\u001b[0m             \u001b[0;32mtry\u001b[0m\u001b[0;34m:\u001b[0m\u001b[0;34m\u001b[0m\u001b[0;34m\u001b[0m\u001b[0m\n\u001b[0;32m--> 131\u001b[0;31m                 \u001b[0;32mreturn\u001b[0m \u001b[0mself\u001b[0m\u001b[0;34m.\u001b[0m\u001b[0m_one_request\u001b[0m\u001b[0;34m(\u001b[0m\u001b[0mmethod\u001b[0m\u001b[0;34m,\u001b[0m \u001b[0murl\u001b[0m\u001b[0;34m,\u001b[0m \u001b[0mopts\u001b[0m\u001b[0;34m,\u001b[0m \u001b[0mretry\u001b[0m\u001b[0;34m)\u001b[0m\u001b[0;34m\u001b[0m\u001b[0;34m\u001b[0m\u001b[0m\n\u001b[0m\u001b[1;32m    132\u001b[0m             \u001b[0;32mexcept\u001b[0m \u001b[0mRetryException\u001b[0m\u001b[0;34m:\u001b[0m\u001b[0;34m\u001b[0m\u001b[0;34m\u001b[0m\u001b[0m\n\u001b[1;32m    133\u001b[0m                 \u001b[0mtime\u001b[0m\u001b[0;34m.\u001b[0m\u001b[0msleep\u001b[0m\u001b[0;34m(\u001b[0m\u001b[0mself\u001b[0m\u001b[0;34m.\u001b[0m\u001b[0m_retry_wait\u001b[0m\u001b[0;34m)\u001b[0m\u001b[0;34m\u001b[0m\u001b[0;34m\u001b[0m\u001b[0m\n",
            "\u001b[0;32m/usr/local/lib/python3.11/dist-packages/alpaca/common/rest.py\u001b[0m in \u001b[0;36m_one_request\u001b[0;34m(self, method, url, opts, retry)\u001b[0m\n\u001b[1;32m    205\u001b[0m             \u001b[0merror\u001b[0m \u001b[0;34m=\u001b[0m \u001b[0mresponse\u001b[0m\u001b[0;34m.\u001b[0m\u001b[0mtext\u001b[0m\u001b[0;34m\u001b[0m\u001b[0;34m\u001b[0m\u001b[0m\n\u001b[1;32m    206\u001b[0m \u001b[0;34m\u001b[0m\u001b[0m\n\u001b[0;32m--> 207\u001b[0;31m             \u001b[0;32mraise\u001b[0m \u001b[0mAPIError\u001b[0m\u001b[0;34m(\u001b[0m\u001b[0merror\u001b[0m\u001b[0;34m,\u001b[0m \u001b[0mhttp_error\u001b[0m\u001b[0;34m)\u001b[0m\u001b[0;34m\u001b[0m\u001b[0;34m\u001b[0m\u001b[0m\n\u001b[0m\u001b[1;32m    208\u001b[0m \u001b[0;34m\u001b[0m\u001b[0m\n\u001b[1;32m    209\u001b[0m         \u001b[0;32mif\u001b[0m \u001b[0mresponse\u001b[0m\u001b[0;34m.\u001b[0m\u001b[0mtext\u001b[0m \u001b[0;34m!=\u001b[0m \u001b[0;34m\"\"\u001b[0m\u001b[0;34m:\u001b[0m\u001b[0;34m\u001b[0m\u001b[0;34m\u001b[0m\u001b[0m\n",
            "\u001b[0;31mAPIError\u001b[0m: {\"message\":\"OPRA agreement is not signed\"}\n"
          ]
        }
      ]
    }
  ]
}