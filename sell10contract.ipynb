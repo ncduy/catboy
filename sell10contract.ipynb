{
  "nbformat": 4,
  "nbformat_minor": 0,
  "metadata": {
    "colab": {
      "provenance": [],
      "authorship_tag": "ABX9TyOifLPUmtFron+u3rTGeIgh",
      "include_colab_link": true
    },
    "kernelspec": {
      "name": "python3",
      "display_name": "Python 3"
    },
    "language_info": {
      "name": "python"
    }
  },
  "cells": [
    {
      "cell_type": "markdown",
      "metadata": {
        "id": "view-in-github",
        "colab_type": "text"
      },
      "source": [
        "<a href=\"https://colab.research.google.com/github/ncduy/catboy/blob/main/sell10contract.ipynb\" target=\"_parent\"><img src=\"https://colab.research.google.com/assets/colab-badge.svg\" alt=\"Open In Colab\"/></a>"
      ]
    },
    {
      "cell_type": "code",
      "execution_count": 81,
      "metadata": {
        "id": "ab2c--Ki2V25"
      },
      "outputs": [],
      "source": [
        "# Please change the following to your own PAPER api key and secret\n",
        "# or set them as environment variables (ALPACA_API_KEY, ALPACA_SECRET_KEY).\n",
        "# You can get them from https://alpaca.markets/\n",
        "\n",
        "api_key = \"PK0ZFR34PNBANAPIJCQM\"\n",
        "secret_key = \"g3bD2DIu7cxKaSHadhRH5uq3k3Q2OqvUJUNwQAh2\"\n",
        "\n",
        "#### We use paper environment for this example ####\n",
        "paper = True  # Please do not modify this. This example is for paper trading only.\n",
        "####\n",
        "\n",
        "# Below are the variables for development this documents\n",
        "# Please do not change these variables\n",
        "\n",
        "trade_api_url = None"
      ]
    },
    {
      "cell_type": "code",
      "source": [
        "import os\n",
        "\n",
        "if api_key is None:\n",
        "    api_key = os.environ.get('ALPACA_API_KEY')\n",
        "\n",
        "if secret_key is None:\n",
        "    secret_key = os.environ.get('ALPACA_SECRET_KEY')"
      ],
      "metadata": {
        "id": "MO3-3iDH3YF7"
      },
      "execution_count": 82,
      "outputs": []
    },
    {
      "cell_type": "code",
      "source": [
        "# install alpaca-py if it is not available\n",
        "try:\n",
        "    import alpaca\n",
        "except ImportError:\n",
        "    !python3 -m pip install alpaca-py\n",
        "    import alpaca"
      ],
      "metadata": {
        "collapsed": true,
        "id": "SRwwVS0F3htT"
      },
      "execution_count": 83,
      "outputs": []
    },
    {
      "cell_type": "code",
      "source": [
        "from datetime import datetime, timedelta\n",
        "from zoneinfo import ZoneInfo\n",
        "import calendar\n",
        "\n",
        "from alpaca.trading.client import TradingClient\n",
        "from alpaca.data.requests import (\n",
        "    OptionBarsRequest,\n",
        "    OptionTradesRequest,\n",
        "    OptionLatestQuoteRequest,\n",
        "    OptionLatestTradeRequest,\n",
        "    OptionSnapshotRequest,\n",
        "    OptionChainRequest,\n",
        ")\n",
        "from alpaca.trading.requests import (\n",
        "    GetOptionContractsRequest,\n",
        "    MarketOrderRequest,\n",
        "    OptionLegRequest,\n",
        "    ReplaceOrderRequest,\n",
        "    LimitOrderRequest,\n",
        ")\n",
        "from alpaca.trading.enums import (\n",
        "    AssetStatus,\n",
        "    ExerciseStyle,\n",
        "    OrderSide,\n",
        "    OrderStatus,\n",
        "    TimeInForce,\n",
        "    OrderClass,\n",
        "    ContractType,\n",
        "    OrderType\n",
        ")\n",
        "from alpaca.common.exceptions import APIError"
      ],
      "metadata": {
        "id": "XkeDgS_33tMz"
      },
      "execution_count": 84,
      "outputs": []
    },
    {
      "cell_type": "code",
      "source": [
        "# setup client\n",
        "trade_client = TradingClient(api_key=api_key, secret_key=secret_key, paper=paper, url_override=trade_api_url)"
      ],
      "metadata": {
        "id": "5cMay3Sf3yvR"
      },
      "execution_count": 85,
      "outputs": []
    },
    {
      "cell_type": "code",
      "source": [
        "# First, let us see if the account is enabled for multi-leg options trading\n",
        "acct = trade_client.get_account()\n",
        "if acct.options_trading_level >= 3:\n",
        "    print(\"Account is enabled for multi-leg options trading!\")\n",
        "else:\n",
        "    print(\"Account is not enabled for multi-leg options trading!\")"
      ],
      "metadata": {
        "colab": {
          "base_uri": "https://localhost:8080/"
        },
        "id": "o7NM8_7E3z0c",
        "outputId": "ca5e5094-88b0-4941-ab44-f1607bafb55f"
      },
      "execution_count": 86,
      "outputs": [
        {
          "output_type": "stream",
          "name": "stdout",
          "text": [
            "Account is enabled for multi-leg options trading!\n"
          ]
        }
      ]
    },
    {
      "cell_type": "code",
      "source": [
        "from alpaca.data.historical import StockHistoricalDataClient\n",
        "from alpaca.data.requests import StockLatestTradeRequest\n",
        "# Initialize Stock Data Client\n",
        "stock_client = StockHistoricalDataClient(api_key, secret_key)\n",
        "\n",
        "# Create a request to get the latest trade price for TSLA\n",
        "trade_request = StockLatestTradeRequest(symbol_or_symbols=[\"TSLA\"])\n",
        "latest_trade = stock_client.get_stock_latest_trade(trade_request)\n",
        "\n",
        "# Extract TSLA's latest price\n",
        "tsla_price = latest_trade[\"TSLA\"].price\n",
        "print(f\"Current TSLA Price: ${tsla_price}\")"
      ],
      "metadata": {
        "colab": {
          "base_uri": "https://localhost:8080/"
        },
        "id": "MC5OxHYw4N02",
        "outputId": "5794b452-5308-41c8-9962-56515992c2da"
      },
      "execution_count": 87,
      "outputs": [
        {
          "output_type": "stream",
          "name": "stdout",
          "text": [
            "Current TSLA Price: $361.365\n"
          ]
        }
      ]
    },
    {
      "cell_type": "code",
      "source": [
        "from alpaca.data.historical.option import OptionHistoricalDataClient\n",
        "\n",
        "# Request all available TSLA option contracts\n",
        "req = GetOptionContractsRequest(\n",
        "    underlying_symbols=[\"TSLA\"],  # Filter for TSLA options\n",
        "    status=AssetStatus.ACTIVE,    # Only fetch active contracts\n",
        "    expiration_date_lte='2025-02-21',\n",
        "    type=ContractType.CALL,\n",
        "    limit=1000                     # Increase limit if needed\n",
        ")\n",
        "\n",
        "# Fetch contracts\n",
        "contracts = trade_client.get_option_contracts(req)\n",
        "contracts\n",
        "\n",
        "# Filter contracts by strike price\n",
        "contracts_sorted = sorted(contracts.option_contracts, key=lambda c: abs(c.strike_price - tsla_price))\n",
        "contracts_above = [c for c in contracts_sorted if c.strike_price > tsla_price][:3]\n",
        "contracts_below = [c for c in contracts_sorted if c.strike_price < tsla_price][:3]\n",
        "\n",
        "# Select the final 6 contracts\n",
        "selected_contracts = contracts_below + contracts_above\n",
        "selected_contracts"
      ],
      "metadata": {
        "colab": {
          "base_uri": "https://localhost:8080/"
        },
        "collapsed": true,
        "id": "fpMsV-qWNcR4",
        "outputId": "c64f1b4c-81d8-4d4e-d6a0-71a564c92b5f"
      },
      "execution_count": 88,
      "outputs": [
        {
          "output_type": "execute_result",
          "data": {
            "text/plain": [
              "[{   'close_price': '4.36',\n",
              "     'close_price_date': datetime.date(2025, 2, 18),\n",
              "     'expiration_date': datetime.date(2025, 2, 21),\n",
              "     'id': 'e280c2b6-1f67-40b1-8dd8-c0860a191188',\n",
              "     'name': 'TSLA Feb 21 2025 360 Call',\n",
              "     'open_interest': '23168',\n",
              "     'open_interest_date': datetime.date(2025, 2, 14),\n",
              "     'root_symbol': 'TSLA',\n",
              "     'size': '100',\n",
              "     'status': <AssetStatus.ACTIVE: 'active'>,\n",
              "     'strike_price': 360.0,\n",
              "     'style': <ExerciseStyle.AMERICAN: 'american'>,\n",
              "     'symbol': 'TSLA250221C00360000',\n",
              "     'tradable': True,\n",
              "     'type': <ContractType.CALL: 'call'>,\n",
              "     'underlying_asset_id': UUID('8ccae427-5dd0-45b3-b5fe-7ba5e422c766'),\n",
              "     'underlying_symbol': 'TSLA'},\n",
              " {   'close_price': '5.3',\n",
              "     'close_price_date': datetime.date(2025, 2, 18),\n",
              "     'expiration_date': datetime.date(2025, 2, 21),\n",
              "     'id': '515a311c-37a1-481e-8c3b-5a3137c3ef91',\n",
              "     'name': 'TSLA Feb 21 2025 357.5 Call',\n",
              "     'open_interest': '3720',\n",
              "     'open_interest_date': datetime.date(2025, 2, 14),\n",
              "     'root_symbol': 'TSLA',\n",
              "     'size': '100',\n",
              "     'status': <AssetStatus.ACTIVE: 'active'>,\n",
              "     'strike_price': 357.5,\n",
              "     'style': <ExerciseStyle.AMERICAN: 'american'>,\n",
              "     'symbol': 'TSLA250221C00357500',\n",
              "     'tradable': True,\n",
              "     'type': <ContractType.CALL: 'call'>,\n",
              "     'underlying_asset_id': UUID('8ccae427-5dd0-45b3-b5fe-7ba5e422c766'),\n",
              "     'underlying_symbol': 'TSLA'},\n",
              " {   'close_price': '6.35',\n",
              "     'close_price_date': datetime.date(2025, 2, 18),\n",
              "     'expiration_date': datetime.date(2025, 2, 21),\n",
              "     'id': 'bfb58d70-247d-4ca2-861e-c7e3d02f624b',\n",
              "     'name': 'TSLA Feb 21 2025 355 Call',\n",
              "     'open_interest': '16876',\n",
              "     'open_interest_date': datetime.date(2025, 2, 14),\n",
              "     'root_symbol': 'TSLA',\n",
              "     'size': '100',\n",
              "     'status': <AssetStatus.ACTIVE: 'active'>,\n",
              "     'strike_price': 355.0,\n",
              "     'style': <ExerciseStyle.AMERICAN: 'american'>,\n",
              "     'symbol': 'TSLA250221C00355000',\n",
              "     'tradable': True,\n",
              "     'type': <ContractType.CALL: 'call'>,\n",
              "     'underlying_asset_id': UUID('8ccae427-5dd0-45b3-b5fe-7ba5e422c766'),\n",
              "     'underlying_symbol': 'TSLA'},\n",
              " {   'close_price': '3.5',\n",
              "     'close_price_date': datetime.date(2025, 2, 18),\n",
              "     'expiration_date': datetime.date(2025, 2, 21),\n",
              "     'id': '37484275-6a44-4b82-b2ee-9124abb583ba',\n",
              "     'name': 'TSLA Feb 21 2025 362.5 Call',\n",
              "     'open_interest': '10421',\n",
              "     'open_interest_date': datetime.date(2025, 2, 14),\n",
              "     'root_symbol': 'TSLA',\n",
              "     'size': '100',\n",
              "     'status': <AssetStatus.ACTIVE: 'active'>,\n",
              "     'strike_price': 362.5,\n",
              "     'style': <ExerciseStyle.AMERICAN: 'american'>,\n",
              "     'symbol': 'TSLA250221C00362500',\n",
              "     'tradable': True,\n",
              "     'type': <ContractType.CALL: 'call'>,\n",
              "     'underlying_asset_id': UUID('8ccae427-5dd0-45b3-b5fe-7ba5e422c766'),\n",
              "     'underlying_symbol': 'TSLA'},\n",
              " {   'close_price': '2.93',\n",
              "     'close_price_date': datetime.date(2025, 2, 18),\n",
              "     'expiration_date': datetime.date(2025, 2, 21),\n",
              "     'id': '812a3682-dd66-47c7-8f03-f0bf4be9298c',\n",
              "     'name': 'TSLA Feb 21 2025 365 Call',\n",
              "     'open_interest': '13854',\n",
              "     'open_interest_date': datetime.date(2025, 2, 14),\n",
              "     'root_symbol': 'TSLA',\n",
              "     'size': '100',\n",
              "     'status': <AssetStatus.ACTIVE: 'active'>,\n",
              "     'strike_price': 365.0,\n",
              "     'style': <ExerciseStyle.AMERICAN: 'american'>,\n",
              "     'symbol': 'TSLA250221C00365000',\n",
              "     'tradable': True,\n",
              "     'type': <ContractType.CALL: 'call'>,\n",
              "     'underlying_asset_id': UUID('8ccae427-5dd0-45b3-b5fe-7ba5e422c766'),\n",
              "     'underlying_symbol': 'TSLA'},\n",
              " {   'close_price': '2.35',\n",
              "     'close_price_date': datetime.date(2025, 2, 18),\n",
              "     'expiration_date': datetime.date(2025, 2, 21),\n",
              "     'id': 'ceec57b3-16d5-4923-95d2-42378fb32512',\n",
              "     'name': 'TSLA Feb 21 2025 367.5 Call',\n",
              "     'open_interest': '2133',\n",
              "     'open_interest_date': datetime.date(2025, 2, 14),\n",
              "     'root_symbol': 'TSLA',\n",
              "     'size': '100',\n",
              "     'status': <AssetStatus.ACTIVE: 'active'>,\n",
              "     'strike_price': 367.5,\n",
              "     'style': <ExerciseStyle.AMERICAN: 'american'>,\n",
              "     'symbol': 'TSLA250221C00367500',\n",
              "     'tradable': True,\n",
              "     'type': <ContractType.CALL: 'call'>,\n",
              "     'underlying_asset_id': UUID('8ccae427-5dd0-45b3-b5fe-7ba5e422c766'),\n",
              "     'underlying_symbol': 'TSLA'}]"
            ]
          },
          "metadata": {},
          "execution_count": 88
        }
      ]
    },
    {
      "cell_type": "code",
      "source": [
        "# Define stock and quantity\n",
        "stock_symbol = \"TSLA\"\n",
        "quantity = 800  # Buy 100 shares\n",
        "\n",
        "# simple, market order\n",
        "# you can specify:\n",
        "# or notional value (e.g. 100 USD) (which is in the next example)\n",
        "req = MarketOrderRequest(\n",
        "    symbol = stock_symbol,\n",
        "    qty = quantity,\n",
        "    side = OrderSide.BUY,\n",
        "    type = OrderType.MARKET,\n",
        "    time_in_force = TimeInForce.GTC,\n",
        ")\n",
        "#res = trade_client.submit_order(req)\n",
        "#res\n",
        "\n",
        "# Fetch account positions\n",
        "positions = trade_client.get_all_positions()\n",
        "\n",
        "# Find TSLA position\n",
        "tsla_position = next((p for p in positions if p.symbol == \"TSLA\"), None)\n",
        "\n",
        "# Check if you own at least 100 shares\n",
        "if tsla_position and int(tsla_position.qty) >= 100:\n",
        "    print(f\"You own {tsla_position.qty} TSLA shares ✅\")\n",
        "else:\n",
        "    print(\"You do not own 100 TSLA shares yet ❌\")"
      ],
      "metadata": {
        "collapsed": true,
        "id": "avIOJaF22-v8",
        "outputId": "e2cf3d63-ae11-430f-967c-a8589582cf10",
        "colab": {
          "base_uri": "https://localhost:8080/"
        }
      },
      "execution_count": 96,
      "outputs": [
        {
          "output_type": "stream",
          "name": "stdout",
          "text": [
            "You own 1800 TSLA shares ✅\n"
          ]
        }
      ]
    },
    {
      "cell_type": "code",
      "source": [
        "\n",
        "# ✅ Extract symbols and strike prices\n",
        "strike_prices = {contract.symbol: contract.strike_price for contract in selected_contracts}\n",
        "\n",
        "# Sort contracts by strike price (ascending order)\n",
        "sorted_contracts = sorted(strike_prices.items(), key=lambda x: x[1])\n",
        "\n",
        "# Extract sorted symbols\n",
        "option_symbols = [symbol for symbol, _ in sorted_contracts]\n",
        "# ✅ Extract the option symbols correctly\n",
        "#option_symbols = [contract.symbol for contract in contracts.option_contracts]\n",
        "#strike_prices = {contract.symbol: contract.strike_price for contract in contracts.option_contracts}\n",
        "#setup option historical data client\n",
        "option_historical_data_client = OptionHistoricalDataClient(api_key, secret_key, trade_api_url)\n",
        "\n",
        "\n",
        "# Split symbols into batches of 100\n",
        "batch_size = 100\n",
        "option_quotes = {}\n",
        "\n",
        "for i in range(0, len(option_symbols), batch_size):\n",
        "    batch = option_symbols[i:i + batch_size]  # Get a batch of 100 symbols\n",
        "    req = OptionLatestQuoteRequest(symbol_or_symbols=batch)\n",
        "    #req = OptionSnapshotRequest(symbol_or_symbols=batch)\n",
        "    try:\n",
        "        res = option_historical_data_client.get_option_latest_quote(req)\n",
        "        #res = option_historical_data_client.get_option_snapshot(req)\n",
        "        option_quotes.update(res)  # Merge results into main dictionary\n",
        "    except Exception as e:\n",
        "        print(f\"Error fetching batch {i // batch_size + 1}: {e}\")\n",
        "\n",
        "# Print results\n",
        "print(f\"Retrieved quotes for {len(option_quotes)} option contracts.\")\n",
        "option_quotes\n",
        "\n",
        "order_legs = []\n",
        "\n",
        "for symbol, strike_price in sorted_contracts:\n",
        "    bid_price = option_quotes[symbol].bid_price if symbol in option_quotes else \"N/A\"\n",
        "    ask_price = option_quotes[symbol].ask_price if symbol in option_quotes else \"N/A\"\n",
        "\n",
        "    print(f\"{symbol:<20} {strike_price:<15} {bid_price:<15} {ask_price:<15}\")\n",
        "\n",
        "    # place buy put option order\n",
        "    # - we can place buy put option order same as buy stock/crypto order\n",
        "    req = MarketOrderRequest(\n",
        "        symbol=symbol,\n",
        "        qty=1,\n",
        "        side=OrderSide.SELL,\n",
        "        type=OrderType.LIMIT,  # Limit order type\n",
        "        time_in_force=TimeInForce.DAY,  # Good Till Canceled\n",
        "        limit_price=ask_price  # Sell only if price reaches this\n",
        "    )\n",
        "    res = trade_client.submit_order(req)\n",
        "    print(f\"Sell Order Submitted: {res}\")"
      ],
      "metadata": {
        "collapsed": true,
        "colab": {
          "base_uri": "https://localhost:8080/"
        },
        "id": "FkgCPeZ_psS9",
        "outputId": "2d4cd42c-b26b-4558-c303-29a7ba171999"
      },
      "execution_count": 97,
      "outputs": [
        {
          "output_type": "stream",
          "name": "stdout",
          "text": [
            "Retrieved quotes for 6 option contracts.\n",
            "TSLA250221C00355000  355.0           9.28            9.43           \n",
            "Sell Order Submitted: id=UUID('2bc5d124-2346-474e-b181-dbe2ec42cb9d') client_order_id='738bdecd-992b-4533-ac75-fa466634b08c' created_at=datetime.datetime(2025, 2, 19, 16, 9, 48, 962569, tzinfo=TzInfo(UTC)) updated_at=datetime.datetime(2025, 2, 19, 16, 9, 48, 962621, tzinfo=TzInfo(UTC)) submitted_at=datetime.datetime(2025, 2, 19, 16, 9, 48, 960943, tzinfo=TzInfo(UTC)) filled_at=None expired_at=None expires_at=datetime.datetime(2025, 2, 19, 21, 0, tzinfo=TzInfo(UTC)) canceled_at=None failed_at=None replaced_at=None replaced_by=None replaces=None asset_id=UUID('bfb58d70-247d-4ca2-861e-c7e3d02f624b') symbol='TSLA250221C00355000' asset_class=<AssetClass.US_OPTION: 'us_option'> notional=None qty='1' filled_qty='0' filled_avg_price=None order_class=<OrderClass.SIMPLE: 'simple'> order_type=<OrderType.MARKET: 'market'> type=<OrderType.MARKET: 'market'> side=<OrderSide.SELL: 'sell'> time_in_force=<TimeInForce.DAY: 'day'> limit_price=None stop_price=None status=<OrderStatus.PENDING_NEW: 'pending_new'> extended_hours=False legs=None trail_percent=None trail_price=None hwm=None position_intent=<PositionIntent.SELL_TO_OPEN: 'sell_to_open'> ratio_qty=None\n",
            "TSLA250221C00357500  357.5           7.69            7.8            \n",
            "Sell Order Submitted: id=UUID('735c1224-4315-440f-b193-3d6083836165') client_order_id='8ffed40c-768b-4f29-b4f0-359811348dc0' created_at=datetime.datetime(2025, 2, 19, 16, 9, 48, 984096, tzinfo=TzInfo(UTC)) updated_at=datetime.datetime(2025, 2, 19, 16, 9, 48, 984141, tzinfo=TzInfo(UTC)) submitted_at=datetime.datetime(2025, 2, 19, 16, 9, 48, 982774, tzinfo=TzInfo(UTC)) filled_at=None expired_at=None expires_at=datetime.datetime(2025, 2, 19, 21, 0, tzinfo=TzInfo(UTC)) canceled_at=None failed_at=None replaced_at=None replaced_by=None replaces=None asset_id=UUID('515a311c-37a1-481e-8c3b-5a3137c3ef91') symbol='TSLA250221C00357500' asset_class=<AssetClass.US_OPTION: 'us_option'> notional=None qty='1' filled_qty='0' filled_avg_price=None order_class=<OrderClass.SIMPLE: 'simple'> order_type=<OrderType.MARKET: 'market'> type=<OrderType.MARKET: 'market'> side=<OrderSide.SELL: 'sell'> time_in_force=<TimeInForce.DAY: 'day'> limit_price=None stop_price=None status=<OrderStatus.PENDING_NEW: 'pending_new'> extended_hours=False legs=None trail_percent=None trail_price=None hwm=None position_intent=<PositionIntent.SELL_TO_OPEN: 'sell_to_open'> ratio_qty=None\n",
            "TSLA250221C00360000  360.0           6.26            6.53           \n",
            "Sell Order Submitted: id=UUID('6f34f1c4-8ec0-47be-a981-015eb8490ced') client_order_id='77cd0307-9ca0-4976-bd5f-e109acf9079b' created_at=datetime.datetime(2025, 2, 19, 16, 9, 49, 4175, tzinfo=TzInfo(UTC)) updated_at=datetime.datetime(2025, 2, 19, 16, 9, 49, 4236, tzinfo=TzInfo(UTC)) submitted_at=datetime.datetime(2025, 2, 19, 16, 9, 49, 2872, tzinfo=TzInfo(UTC)) filled_at=None expired_at=None expires_at=datetime.datetime(2025, 2, 19, 21, 0, tzinfo=TzInfo(UTC)) canceled_at=None failed_at=None replaced_at=None replaced_by=None replaces=None asset_id=UUID('e280c2b6-1f67-40b1-8dd8-c0860a191188') symbol='TSLA250221C00360000' asset_class=<AssetClass.US_OPTION: 'us_option'> notional=None qty='1' filled_qty='0' filled_avg_price=None order_class=<OrderClass.SIMPLE: 'simple'> order_type=<OrderType.MARKET: 'market'> type=<OrderType.MARKET: 'market'> side=<OrderSide.SELL: 'sell'> time_in_force=<TimeInForce.DAY: 'day'> limit_price=None stop_price=None status=<OrderStatus.PENDING_NEW: 'pending_new'> extended_hours=False legs=None trail_percent=None trail_price=None hwm=None position_intent=<PositionIntent.SELL_TO_OPEN: 'sell_to_open'> ratio_qty=None\n",
            "TSLA250221C00362500  362.5           5.13            5.32           \n",
            "Sell Order Submitted: id=UUID('36d989f4-02ce-45e9-bd99-ea872c1ffb2e') client_order_id='31e6c922-3455-48c0-b4f1-8a3634f67968' created_at=datetime.datetime(2025, 2, 19, 16, 9, 49, 26119, tzinfo=TzInfo(UTC)) updated_at=datetime.datetime(2025, 2, 19, 16, 9, 49, 26180, tzinfo=TzInfo(UTC)) submitted_at=datetime.datetime(2025, 2, 19, 16, 9, 49, 24795, tzinfo=TzInfo(UTC)) filled_at=None expired_at=None expires_at=datetime.datetime(2025, 2, 19, 21, 0, tzinfo=TzInfo(UTC)) canceled_at=None failed_at=None replaced_at=None replaced_by=None replaces=None asset_id=UUID('37484275-6a44-4b82-b2ee-9124abb583ba') symbol='TSLA250221C00362500' asset_class=<AssetClass.US_OPTION: 'us_option'> notional=None qty='1' filled_qty='0' filled_avg_price=None order_class=<OrderClass.SIMPLE: 'simple'> order_type=<OrderType.MARKET: 'market'> type=<OrderType.MARKET: 'market'> side=<OrderSide.SELL: 'sell'> time_in_force=<TimeInForce.DAY: 'day'> limit_price=None stop_price=None status=<OrderStatus.PENDING_NEW: 'pending_new'> extended_hours=False legs=None trail_percent=None trail_price=None hwm=None position_intent=<PositionIntent.SELL_TO_OPEN: 'sell_to_open'> ratio_qty=None\n",
            "TSLA250221C00365000  365.0           4.12            4.18           \n",
            "Sell Order Submitted: id=UUID('814ff5cc-09fe-4f4e-ba02-abf9a788efc9') client_order_id='f843652a-2568-473e-bb74-9d999bbd0075' created_at=datetime.datetime(2025, 2, 19, 16, 9, 49, 46096, tzinfo=TzInfo(UTC)) updated_at=datetime.datetime(2025, 2, 19, 16, 9, 49, 46142, tzinfo=TzInfo(UTC)) submitted_at=datetime.datetime(2025, 2, 19, 16, 9, 49, 44859, tzinfo=TzInfo(UTC)) filled_at=None expired_at=None expires_at=datetime.datetime(2025, 2, 19, 21, 0, tzinfo=TzInfo(UTC)) canceled_at=None failed_at=None replaced_at=None replaced_by=None replaces=None asset_id=UUID('812a3682-dd66-47c7-8f03-f0bf4be9298c') symbol='TSLA250221C00365000' asset_class=<AssetClass.US_OPTION: 'us_option'> notional=None qty='1' filled_qty='0' filled_avg_price=None order_class=<OrderClass.SIMPLE: 'simple'> order_type=<OrderType.MARKET: 'market'> type=<OrderType.MARKET: 'market'> side=<OrderSide.SELL: 'sell'> time_in_force=<TimeInForce.DAY: 'day'> limit_price=None stop_price=None status=<OrderStatus.PENDING_NEW: 'pending_new'> extended_hours=False legs=None trail_percent=None trail_price=None hwm=None position_intent=<PositionIntent.SELL_TO_OPEN: 'sell_to_open'> ratio_qty=None\n",
            "TSLA250221C00367500  367.5           3.37            3.41           \n",
            "Sell Order Submitted: id=UUID('90aee06c-1562-4558-89cb-627226a33178') client_order_id='b3c87f5b-47eb-4e62-bad6-cf62ffbe1caa' created_at=datetime.datetime(2025, 2, 19, 16, 9, 49, 66413, tzinfo=TzInfo(UTC)) updated_at=datetime.datetime(2025, 2, 19, 16, 9, 49, 66467, tzinfo=TzInfo(UTC)) submitted_at=datetime.datetime(2025, 2, 19, 16, 9, 49, 65074, tzinfo=TzInfo(UTC)) filled_at=None expired_at=None expires_at=datetime.datetime(2025, 2, 19, 21, 0, tzinfo=TzInfo(UTC)) canceled_at=None failed_at=None replaced_at=None replaced_by=None replaces=None asset_id=UUID('ceec57b3-16d5-4923-95d2-42378fb32512') symbol='TSLA250221C00367500' asset_class=<AssetClass.US_OPTION: 'us_option'> notional=None qty='1' filled_qty='0' filled_avg_price=None order_class=<OrderClass.SIMPLE: 'simple'> order_type=<OrderType.MARKET: 'market'> type=<OrderType.MARKET: 'market'> side=<OrderSide.SELL: 'sell'> time_in_force=<TimeInForce.DAY: 'day'> limit_price=None stop_price=None status=<OrderStatus.PENDING_NEW: 'pending_new'> extended_hours=False legs=None trail_percent=None trail_price=None hwm=None position_intent=<PositionIntent.SELL_TO_OPEN: 'sell_to_open'> ratio_qty=None\n"
          ]
        }
      ]
    }
  ]
}